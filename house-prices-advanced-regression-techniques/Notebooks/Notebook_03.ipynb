{
 "cells": [
  {
   "cell_type": "code",
   "execution_count": 1,
   "metadata": {},
   "outputs": [],
   "source": [
    "%matplotlib inline\n",
    "import pandas as pd\n",
    "import numpy as np\n",
    "import matplotlib.pyplot as plt"
   ]
  },
  {
   "cell_type": "code",
   "execution_count": 2,
   "metadata": {},
   "outputs": [],
   "source": [
    "df_train = pd.read_csv(\"../Data/final_train.csv\")\n",
    "df_test = pd.read_csv(\"../Data/final_test.csv\")"
   ]
  },
  {
   "cell_type": "code",
   "execution_count": 3,
   "metadata": {
    "scrolled": true
   },
   "outputs": [
    {
     "data": {
      "text/html": [
       "<div>\n",
       "<style scoped>\n",
       "    .dataframe tbody tr th:only-of-type {\n",
       "        vertical-align: middle;\n",
       "    }\n",
       "\n",
       "    .dataframe tbody tr th {\n",
       "        vertical-align: top;\n",
       "    }\n",
       "\n",
       "    .dataframe thead th {\n",
       "        text-align: right;\n",
       "    }\n",
       "</style>\n",
       "<table border=\"1\" class=\"dataframe\">\n",
       "  <thead>\n",
       "    <tr style=\"text-align: right;\">\n",
       "      <th></th>\n",
       "      <th>GarageYrBlt</th>\n",
       "      <th>LotFrontage</th>\n",
       "      <th>MasVnrArea</th>\n",
       "      <th>MSSubClass</th>\n",
       "      <th>BsmtHalfBath</th>\n",
       "      <th>OverallQual</th>\n",
       "      <th>TotalBsmtSF</th>\n",
       "      <th>HalfBath</th>\n",
       "      <th>PoolArea</th>\n",
       "      <th>LotArea</th>\n",
       "      <th>...</th>\n",
       "      <th>Feedr.1</th>\n",
       "      <th>Norm.1</th>\n",
       "      <th>PosA.1</th>\n",
       "      <th>PosN.1</th>\n",
       "      <th>RRAe.1</th>\n",
       "      <th>RRAn.1</th>\n",
       "      <th>RRNn.1</th>\n",
       "      <th>RFn</th>\n",
       "      <th>Unf.2</th>\n",
       "      <th>SalePrice</th>\n",
       "    </tr>\n",
       "  </thead>\n",
       "  <tbody>\n",
       "    <tr>\n",
       "      <th>0</th>\n",
       "      <td>2003.0</td>\n",
       "      <td>65.0</td>\n",
       "      <td>196.0</td>\n",
       "      <td>60</td>\n",
       "      <td>0.0</td>\n",
       "      <td>7</td>\n",
       "      <td>856.0</td>\n",
       "      <td>1</td>\n",
       "      <td>0</td>\n",
       "      <td>8450</td>\n",
       "      <td>...</td>\n",
       "      <td>0</td>\n",
       "      <td>1</td>\n",
       "      <td>0</td>\n",
       "      <td>0</td>\n",
       "      <td>0</td>\n",
       "      <td>0</td>\n",
       "      <td>0</td>\n",
       "      <td>1</td>\n",
       "      <td>0</td>\n",
       "      <td>208500</td>\n",
       "    </tr>\n",
       "    <tr>\n",
       "      <th>1</th>\n",
       "      <td>1976.0</td>\n",
       "      <td>80.0</td>\n",
       "      <td>0.0</td>\n",
       "      <td>20</td>\n",
       "      <td>1.0</td>\n",
       "      <td>6</td>\n",
       "      <td>1262.0</td>\n",
       "      <td>0</td>\n",
       "      <td>0</td>\n",
       "      <td>9600</td>\n",
       "      <td>...</td>\n",
       "      <td>0</td>\n",
       "      <td>1</td>\n",
       "      <td>0</td>\n",
       "      <td>0</td>\n",
       "      <td>0</td>\n",
       "      <td>0</td>\n",
       "      <td>0</td>\n",
       "      <td>1</td>\n",
       "      <td>0</td>\n",
       "      <td>181500</td>\n",
       "    </tr>\n",
       "    <tr>\n",
       "      <th>2</th>\n",
       "      <td>2001.0</td>\n",
       "      <td>68.0</td>\n",
       "      <td>162.0</td>\n",
       "      <td>60</td>\n",
       "      <td>0.0</td>\n",
       "      <td>7</td>\n",
       "      <td>920.0</td>\n",
       "      <td>1</td>\n",
       "      <td>0</td>\n",
       "      <td>11250</td>\n",
       "      <td>...</td>\n",
       "      <td>0</td>\n",
       "      <td>1</td>\n",
       "      <td>0</td>\n",
       "      <td>0</td>\n",
       "      <td>0</td>\n",
       "      <td>0</td>\n",
       "      <td>0</td>\n",
       "      <td>1</td>\n",
       "      <td>0</td>\n",
       "      <td>223500</td>\n",
       "    </tr>\n",
       "    <tr>\n",
       "      <th>3</th>\n",
       "      <td>1998.0</td>\n",
       "      <td>60.0</td>\n",
       "      <td>0.0</td>\n",
       "      <td>70</td>\n",
       "      <td>0.0</td>\n",
       "      <td>7</td>\n",
       "      <td>756.0</td>\n",
       "      <td>0</td>\n",
       "      <td>0</td>\n",
       "      <td>9550</td>\n",
       "      <td>...</td>\n",
       "      <td>0</td>\n",
       "      <td>1</td>\n",
       "      <td>0</td>\n",
       "      <td>0</td>\n",
       "      <td>0</td>\n",
       "      <td>0</td>\n",
       "      <td>0</td>\n",
       "      <td>0</td>\n",
       "      <td>1</td>\n",
       "      <td>140000</td>\n",
       "    </tr>\n",
       "    <tr>\n",
       "      <th>4</th>\n",
       "      <td>2000.0</td>\n",
       "      <td>84.0</td>\n",
       "      <td>350.0</td>\n",
       "      <td>60</td>\n",
       "      <td>0.0</td>\n",
       "      <td>8</td>\n",
       "      <td>1145.0</td>\n",
       "      <td>1</td>\n",
       "      <td>0</td>\n",
       "      <td>14260</td>\n",
       "      <td>...</td>\n",
       "      <td>0</td>\n",
       "      <td>1</td>\n",
       "      <td>0</td>\n",
       "      <td>0</td>\n",
       "      <td>0</td>\n",
       "      <td>0</td>\n",
       "      <td>0</td>\n",
       "      <td>1</td>\n",
       "      <td>0</td>\n",
       "      <td>250000</td>\n",
       "    </tr>\n",
       "  </tbody>\n",
       "</table>\n",
       "<p>5 rows × 237 columns</p>\n",
       "</div>"
      ],
      "text/plain": [
       "   GarageYrBlt  LotFrontage  MasVnrArea  MSSubClass  BsmtHalfBath  \\\n",
       "0       2003.0         65.0       196.0          60           0.0   \n",
       "1       1976.0         80.0         0.0          20           1.0   \n",
       "2       2001.0         68.0       162.0          60           0.0   \n",
       "3       1998.0         60.0         0.0          70           0.0   \n",
       "4       2000.0         84.0       350.0          60           0.0   \n",
       "\n",
       "   OverallQual  TotalBsmtSF  HalfBath  PoolArea  LotArea  ...  Feedr.1  \\\n",
       "0            7        856.0         1         0     8450  ...        0   \n",
       "1            6       1262.0         0         0     9600  ...        0   \n",
       "2            7        920.0         1         0    11250  ...        0   \n",
       "3            7        756.0         0         0     9550  ...        0   \n",
       "4            8       1145.0         1         0    14260  ...        0   \n",
       "\n",
       "   Norm.1  PosA.1  PosN.1  RRAe.1  RRAn.1  RRNn.1  RFn  Unf.2  SalePrice  \n",
       "0       1       0       0       0       0       0    1      0     208500  \n",
       "1       1       0       0       0       0       0    1      0     181500  \n",
       "2       1       0       0       0       0       0    1      0     223500  \n",
       "3       1       0       0       0       0       0    0      1     140000  \n",
       "4       1       0       0       0       0       0    1      0     250000  \n",
       "\n",
       "[5 rows x 237 columns]"
      ]
     },
     "execution_count": 3,
     "metadata": {},
     "output_type": "execute_result"
    }
   ],
   "source": [
    "df_train = df_train.drop(['Unnamed: 0'], axis = 1)\n",
    "df_train.head()"
   ]
  },
  {
   "cell_type": "code",
   "execution_count": 4,
   "metadata": {},
   "outputs": [],
   "source": [
    "target = pd.DataFrame(df_train[\"SalePrice\"])\n",
    "df_train = df_train.drop(['SalePrice'], axis = 1)"
   ]
  },
  {
   "cell_type": "code",
   "execution_count": 5,
   "metadata": {},
   "outputs": [],
   "source": [
    "models = {}"
   ]
  },
  {
   "cell_type": "markdown",
   "metadata": {},
   "source": [
    "Models to try:\n",
    "\n",
    "* Linear Regression\n",
    "* Ridge Regression\n",
    "* SVM Regression\n",
    "* Random Forest Regressor\n",
    "* XGBoost Regressor"
   ]
  },
  {
   "cell_type": "markdown",
   "metadata": {},
   "source": [
    "### Linear Regression"
   ]
  },
  {
   "cell_type": "code",
   "execution_count": 6,
   "metadata": {},
   "outputs": [
    {
     "name": "stdout",
     "output_type": "stream",
     "text": [
      "-40577.105600668976\n"
     ]
    }
   ],
   "source": [
    "from sklearn.linear_model import LinearRegression\n",
    "from sklearn.model_selection import cross_val_score\n",
    "\n",
    "linreg = LinearRegression()\n",
    "model_linreg = cross_val_score(linreg, df_train, target, cv = 10, scoring = 'r2')\n",
    "models[\"Linear Regression\"] = model_linreg\n",
    "print(model_linreg.mean())"
   ]
  },
  {
   "cell_type": "markdown",
   "metadata": {},
   "source": [
    "### Ridge Regression"
   ]
  },
  {
   "cell_type": "code",
   "execution_count": 7,
   "metadata": {},
   "outputs": [
    {
     "name": "stdout",
     "output_type": "stream",
     "text": [
      "-40577.105600668976\n"
     ]
    }
   ],
   "source": [
    "from sklearn.linear_model import Ridge\n",
    "\n",
    "ridge = Ridge()\n",
    "model_ridge = cross_val_score(ridge, df_train, target, cv = 10)\n",
    "models[\"Ridge Regression\"] = model_ridge\n",
    "print(model_linreg.mean())"
   ]
  },
  {
   "cell_type": "markdown",
   "metadata": {},
   "source": [
    "### Support Vector Regressor"
   ]
  },
  {
   "cell_type": "code",
   "execution_count": 8,
   "metadata": {},
   "outputs": [
    {
     "name": "stdout",
     "output_type": "stream",
     "text": [
      "-0.053795480888864565\n"
     ]
    }
   ],
   "source": [
    "from sklearn.svm import SVR\n",
    "\n",
    "svr = SVR()\n",
    "model_svr = cross_val_score(svr, df_train, target.values.reshape(len(target),), cv = 10)\n",
    "models[\"Support Vector Regressor\"] = model_svr\n",
    "print(model_svr.mean())"
   ]
  },
  {
   "cell_type": "markdown",
   "metadata": {},
   "source": [
    "### Random Forest Regressor"
   ]
  },
  {
   "cell_type": "code",
   "execution_count": 9,
   "metadata": {},
   "outputs": [
    {
     "name": "stdout",
     "output_type": "stream",
     "text": [
      "0.6694692582991806\n"
     ]
    }
   ],
   "source": [
    "from sklearn.ensemble import RandomForestRegressor\n",
    "\n",
    "Rfr = RandomForestRegressor(max_depth = 2, random_state = 0)\n",
    "Rfr_model = cross_val_score(Rfr, df_train, target.values.reshape(len(target),), cv = 10)\n",
    "models[\"Random Forest Regressor\"] = Rfr_model\n",
    "print(Rfr_model.mean())"
   ]
  },
  {
   "cell_type": "markdown",
   "metadata": {},
   "source": [
    "### Gradient Boost Regressor"
   ]
  },
  {
   "cell_type": "code",
   "execution_count": 10,
   "metadata": {},
   "outputs": [
    {
     "name": "stdout",
     "output_type": "stream",
     "text": [
      "0.8916392993959974\n"
     ]
    }
   ],
   "source": [
    "from sklearn.ensemble import GradientBoostingRegressor\n",
    "\n",
    "GbR = GradientBoostingRegressor()\n",
    "GbR_model = cross_val_score(GbR, df_train, target.values.reshape(len(target),), cv = 10)\n",
    "models[\"Gradient Boost Regressor\"] = GbR_model\n",
    "print(GbR_model.mean())"
   ]
  },
  {
   "cell_type": "markdown",
   "metadata": {},
   "source": [
    "### XGBoost Regressor"
   ]
  },
  {
   "cell_type": "code",
   "execution_count": 11,
   "metadata": {},
   "outputs": [
    {
     "name": "stdout",
     "output_type": "stream",
     "text": [
      "0.8726863916076827\n"
     ]
    }
   ],
   "source": [
    "from xgboost import XGBRegressor\n",
    "\n",
    "XGBR = XGBRegressor()\n",
    "XGBR_model = cross_val_score(XGBR, df_train, target, cv = 10)\n",
    "models[\"XGBoost Regressor\"] = XGBR_model\n",
    "print(XGBR_model.mean())"
   ]
  },
  {
   "cell_type": "markdown",
   "metadata": {},
   "source": [
    "### Analysis"
   ]
  },
  {
   "cell_type": "code",
   "execution_count": 12,
   "metadata": {},
   "outputs": [
    {
     "data": {
      "image/png": "[encoded data removed]",
      "text/plain": [
       "<Figure size 504x360 with 1 Axes>"
      ]
     },
     "metadata": {
      "needs_background": "light"
     },
     "output_type": "display_data"
    }
   ],
   "source": [
    "fig, ax = plt.subplots(1, 1, figsize = (7, 5))\n",
    "\n",
    "for model in models:\n",
    "    ax.plot(models.get(model), label = model)\n",
    "plt.legend()\n",
    "plt.show()"
   ]
  },
  {
   "cell_type": "code",
   "execution_count": 13,
   "metadata": {},
   "outputs": [
    {
     "data": {
      "text/plain": [
       "{'Linear Regression': -40577.105600668976,\n",
       " 'Ridge Regression': 0.8368682589754961,\n",
       " 'Support Vector Regressor': -0.053795480888864565,\n",
       " 'Random Forest Regressor': 0.6694692582991806,\n",
       " 'Gradient Boost Regressor': 0.8916392993959974,\n",
       " 'XGBoost Regressor': 0.8726863916076827}"
      ]
     },
     "execution_count": 13,
     "metadata": {},
     "output_type": "execute_result"
    }
   ],
   "source": [
    "for model in models:\n",
    "    models[model] = models[model].mean()\n",
    "models"
   ]
  },
  {
   "cell_type": "markdown",
   "metadata": {},
   "source": [
    "Hence we choose Gradient Boost Regressor and XGBoost"
   ]
  },
  {
   "cell_type": "markdown",
   "metadata": {},
   "source": [
    "### Hyperparameter Tuning"
   ]
  },
  {
   "cell_type": "markdown",
   "metadata": {},
   "source": [
    "#### Gradient Boost"
   ]
  },
  {
   "cell_type": "code",
   "execution_count": 129,
   "metadata": {},
   "outputs": [],
   "source": [
    "from sklearn.model_selection import RandomizedSearchCV\n",
    "\n",
    "parameters = {\n",
    "    'learning_rate': [0.1, 0.3, 0.5, 0.7],\n",
    "    'n_estimators': [100, 300, 500],\n",
    "    'max_depth': [2, 3],\n",
    "    'max_features':[None, 2, 4, 6],\n",
    "    'ccp_alpha' :[0.0, 0.2, 0.6]\n",
    "}"
   ]
  },
  {
   "cell_type": "code",
   "execution_count": 130,
   "metadata": {},
   "outputs": [
    {
     "data": {
      "text/plain": [
       "RandomizedSearchCV(cv=3, estimator=GradientBoostingRegressor(), n_jobs=-1,\n",
       "                   param_distributions={'ccp_alpha': [0.0, 0.2, 0.6],\n",
       "                                        'learning_rate': [0.1, 0.3, 0.5, 0.7],\n",
       "                                        'max_depth': [2, 3],\n",
       "                                        'max_features': [None, 2, 4, 6],\n",
       "                                        'n_estimators': [100, 300, 500]},\n",
       "                   return_train_score=True, scoring='r2')"
      ]
     },
     "execution_count": 130,
     "metadata": {},
     "output_type": "execute_result"
    }
   ],
   "source": [
    "Rboost_grid = RandomizedSearchCV(GbR, parameters,\n",
    "                          scoring = 'r2',\n",
    "                          return_train_score = True, cv = 3, n_jobs = -1)\n",
    "Rboost_grid.fit(df_train, target.values.reshape(len(target),))"
   ]
  },
  {
   "cell_type": "code",
   "execution_count": 131,
   "metadata": {},
   "outputs": [
    {
     "data": {
      "text/plain": [
       "{'n_estimators': 300,\n",
       " 'max_features': None,\n",
       " 'max_depth': 2,\n",
       " 'learning_rate': 0.7,\n",
       " 'ccp_alpha': 0.0}"
      ]
     },
     "execution_count": 131,
     "metadata": {},
     "output_type": "execute_result"
    }
   ],
   "source": [
    "Rboost_grid.best_params_"
   ]
  },
  {
   "cell_type": "code",
   "execution_count": 31,
   "metadata": {},
   "outputs": [],
   "source": [
    "model_0 = {'n_estimators': 300,\n",
    " 'max_features': 2,\n",
    " 'max_depth': 3,\n",
    " 'learning_rate': 1.2915496650148839,\n",
    " 'ccp_alpha': 5.994842503189409}\n",
    "\n",
    "model_1 = {'n_estimators': 300,\n",
    " 'max_features': None,\n",
    " 'max_depth': 3,\n",
    " 'learning_rate': 1.0}\n",
    "\n",
    "model_2 = {'n_estimators': 700,\n",
    " 'max_features': 6,\n",
    " 'max_depth': 5,\n",
    " 'learning_rate': 1.0,\n",
    " 'ccp_alpha': 5.994842503189409}\n",
    "\n",
    "model_3 = {'n_estimators': 1000,\n",
    " 'max_features': 8,\n",
    " 'max_depth': 2,\n",
    " 'learning_rate': 1.2915496650148839,\n",
    " 'ccp_alpha': 2.7825594022071245}\n",
    "\n",
    "model_4 = {}\n",
    "\n",
    "model_5 {'n_estimators': 300,\n",
    " 'max_features': None,\n",
    " 'max_depth': 2,\n",
    " 'learning_rate': 0.7,\n",
    " 'ccp_alpha': 0.0}"
   ]
  },
  {
   "cell_type": "code",
   "execution_count": 70,
   "metadata": {},
   "outputs": [],
   "source": [
    "from sklearn.model_selection import KFold\n",
    "final_models_train_GB = {}\n",
    "GbR_model_0 = GradientBoostingRegressor(n_estimators = 300, max_features = 2,\n",
    "                                          max_depth = 3, learning_rate = 1.2915496650148839,\n",
    "                                          ccp_alpha = 5.994842503189409, random_state = 0)\n",
    "model_0 = cross_val_score(GbR_model_0, df_train, target.values.reshape(len(target),), cv = 10)\n",
    "final_models_train_GB['Model 0'] = model_0"
   ]
  },
  {
   "cell_type": "code",
   "execution_count": 71,
   "metadata": {},
   "outputs": [],
   "source": [
    "GbR_model_1 = GradientBoostingRegressor(n_estimators = 300, max_features = None,\n",
    "                                          max_depth = 3, learning_rate = 1.0,\n",
    "                                          ccp_alpha = 0.0, random_state = 0)\n",
    "model_1 = cross_val_score(GbR_model_1, df_train, target.values.reshape(len(target),), cv = 10)\n",
    "final_models_train_GB['Model 1'] = model_1"
   ]
  },
  {
   "cell_type": "code",
   "execution_count": 72,
   "metadata": {},
   "outputs": [],
   "source": [
    "GbR_model_2 = GradientBoostingRegressor(n_estimators = 700, max_features = 6,\n",
    "                                          max_depth = 5, learning_rate = 1.0,\n",
    "                                          ccp_alpha = 5.994842503189409, random_state = 0)\n",
    "model_2 = cross_val_score(GbR_model_2, df_train, target.values.reshape(len(target),), cv = 10)\n",
    "final_models_train_GB['Model 2'] = model_2"
   ]
  },
  {
   "cell_type": "code",
   "execution_count": 73,
   "metadata": {},
   "outputs": [],
   "source": [
    "GbR_model_3 = GradientBoostingRegressor(n_estimators = 1000, max_features = 8,\n",
    "                                          max_depth = 2, learning_rate = 1.2915496650148839,\n",
    "                                          ccp_alpha = 2.7825594022071245, random_state = 0)\n",
    "model_3 = cross_val_score(GbR_model_3, df_train, target.values.reshape(len(target),), cv = 10)\n",
    "final_models_train_GB['Model 3'] = model_3"
   ]
  },
  {
   "cell_type": "code",
   "execution_count": 74,
   "metadata": {},
   "outputs": [],
   "source": [
    "GbR_model_4 = GradientBoostingRegressor()\n",
    "model_4= cross_val_score(GbR_model_4, df_train, target.values.reshape(len(target),), cv = 10)\n",
    "final_models_train_GB['Model 4'] = model_4"
   ]
  },
  {
   "cell_type": "code",
   "execution_count": 132,
   "metadata": {},
   "outputs": [],
   "source": [
    "GbR_model_5 = GradientBoostingRegressor(n_estimators = 300, max_features = None,\n",
    "                                        max_depth = 2, learning_rate = 0.7, ccp_alpha = 0.0)\n",
    "\n",
    "model_5= cross_val_score(GbR_model_5, df_train, target.values.reshape(len(target),), cv = 10)\n",
    "final_models_train_GB['Model 5'] = model_5"
   ]
  },
  {
   "cell_type": "code",
   "execution_count": 133,
   "metadata": {},
   "outputs": [
    {
     "data": {
      "text/plain": [
       "{'Model 0': array([ 0.23131665,  0.20901187, -0.05132772, -0.25401465,  0.45210941,\n",
       "         0.24231073,  0.25558322,  0.18238004,  0.36654652,  0.11268855]),\n",
       " 'Model 1': array([0.82351985, 0.78113949, 0.83330928, 0.73554826, 0.85549077,\n",
       "        0.78524073, 0.79913495, 0.8354165 , 0.83555387, 0.72633753]),\n",
       " 'Model 2': array([0.69533636, 0.67872333, 0.57026334, 0.52924404, 0.62477719,\n",
       "        0.48390029, 0.70924497, 0.43283743, 0.73565327, 0.57867759]),\n",
       " 'Model 3': array([0.43552853, 0.58066508, 0.57156059, 0.58285842, 0.68887401,\n",
       "        0.62524714, 0.73767843, 0.69447087, 0.69402972, 0.26898812]),\n",
       " 'Model 4': array([0.90944294, 0.90810307, 0.93352136, 0.79540257, 0.90100116,\n",
       "        0.88985431, 0.87245488, 0.89790798, 0.90325737, 0.88089727]),\n",
       " 'Model 5': array([0.80059719, 0.88944823, 0.84954585, 0.81526249, 0.90441821,\n",
       "        0.86247   , 0.83809452, 0.89007145, 0.90033055, 0.82944118])}"
      ]
     },
     "execution_count": 133,
     "metadata": {},
     "output_type": "execute_result"
    }
   ],
   "source": [
    "final_models_train_GB"
   ]
  },
  {
   "cell_type": "code",
   "execution_count": 134,
   "metadata": {},
   "outputs": [
    {
     "data": {
      "image/png": "[encoded data removed]",
      "text/plain": [
       "<Figure size 504x360 with 1 Axes>"
      ]
     },
     "metadata": {
      "needs_background": "light"
     },
     "output_type": "display_data"
    }
   ],
   "source": [
    "fig, ax = plt.subplots(1, 1, figsize = (7, 5))\n",
    "\n",
    "for model in final_models_train_GB:\n",
    "    ax.plot(final_models_train_GB.get(model), label = model)\n",
    "\n",
    "plt.xlabel(\"Iterations\")\n",
    "plt.ylabel(\"r2 score\")\n",
    "plt.legend()\n",
    "plt.show()"
   ]
  },
  {
   "cell_type": "code",
   "execution_count": 135,
   "metadata": {},
   "outputs": [
    {
     "data": {
      "text/plain": [
       "{'Model 0': 0.1746604619802175,\n",
       " 'Model 1': 0.8010691237136458,\n",
       " 'Model 2': 0.6038657802756465,\n",
       " 'Model 3': 0.5879900912953367,\n",
       " 'Model 4': 0.8891842913815828,\n",
       " 'Model 5': 0.8579679684911106}"
      ]
     },
     "execution_count": 135,
     "metadata": {},
     "output_type": "execute_result"
    }
   ],
   "source": [
    "final_models_train_GB_bar = {}\n",
    "for model in final_models_train_GB:\n",
    "    final_models_train_GB_bar[model] = final_models_train_GB[model].mean()\n",
    "final_models_train_GB_bar"
   ]
  },
  {
   "cell_type": "code",
   "execution_count": 136,
   "metadata": {},
   "outputs": [
    {
     "data": {
      "image/png": "[encoded data removed]",
      "text/plain": [
       "<Figure size 504x360 with 1 Axes>"
      ]
     },
     "metadata": {
      "needs_background": "light"
     },
     "output_type": "display_data"
    }
   ],
   "source": [
    "ax, fig = plt.subplots(1, 1, figsize = (7, 5))\n",
    "plt.barh(range(len(final_models_train_GB_bar)), \n",
    "         final_models_train_GB_bar.values(),\n",
    "         tick_label = [*final_models_train_GB_bar],\n",
    "         align='center')\n",
    "plt.ylabel(\"r2 score\")\n",
    "plt.xlabel(\"Models\")\n",
    "plt.show()"
   ]
  },
  {
   "cell_type": "markdown",
   "metadata": {},
   "source": [
    "#### XGBoost"
   ]
  },
  {
   "cell_type": "code",
   "execution_count": 126,
   "metadata": {},
   "outputs": [],
   "source": [
    "from sklearn.model_selection import GridSearchCV\n",
    "\n",
    "parameters = {\n",
    "    'n_estimators': [100, 500, 900],\n",
    "}"
   ]
  },
  {
   "cell_type": "code",
   "execution_count": 127,
   "metadata": {},
   "outputs": [
    {
     "data": {
      "text/plain": [
       "GridSearchCV(cv=3,\n",
       "             estimator=XGBRegressor(base_score=None, booster=None,\n",
       "                                    colsample_bylevel=None,\n",
       "                                    colsample_bynode=None,\n",
       "                                    colsample_bytree=None, gamma=None,\n",
       "                                    gpu_id=None, importance_type='gain',\n",
       "                                    interaction_constraints=None,\n",
       "                                    learning_rate=None, max_delta_step=None,\n",
       "                                    max_depth=None, min_child_weight=None,\n",
       "                                    missing=nan, monotone_constraints=None,\n",
       "                                    n_estimators=100, n_jobs=None,\n",
       "                                    num_parallel_tree=None, random_state=0,\n",
       "                                    reg_alpha=None, reg_lambda=None,\n",
       "                                    scale_pos_weight=None, subsample=None,\n",
       "                                    tree_method=None, validate_parameters=None,\n",
       "                                    verbosity=None),\n",
       "             n_jobs=-1, param_grid={'n_estimators': [100, 500, 900]},\n",
       "             return_train_score=True, scoring='r2')"
      ]
     },
     "execution_count": 127,
     "metadata": {},
     "output_type": "execute_result"
    }
   ],
   "source": [
    "XGBR = XGBRegressor(random_state = 0)\n",
    "XGboost_grid = GridSearchCV(XGBR, parameters,\n",
    "                          scoring = 'r2',\n",
    "                          return_train_score = True, cv = 3, n_jobs = -1)\n",
    "XGboost_grid.fit(df_train, target)"
   ]
  },
  {
   "cell_type": "code",
   "execution_count": 128,
   "metadata": {},
   "outputs": [
    {
     "data": {
      "text/plain": [
       "{'n_estimators': 100}"
      ]
     },
     "execution_count": 128,
     "metadata": {},
     "output_type": "execute_result"
    }
   ],
   "source": [
    "XGboost_grid.best_params_"
   ]
  },
  {
   "cell_type": "code",
   "execution_count": null,
   "metadata": {},
   "outputs": [],
   "source": []
  }
 ],
 "metadata": {
  "kernelspec": {
   "display_name": "Python 3",
   "language": "python",
   "name": "python3"
  },
  "language_info": {
   "codemirror_mode": {
    "name": "ipython",
    "version": 3
   },
   "file_extension": ".py",
   "mimetype": "text/x-python",
   "name": "python",
   "nbconvert_exporter": "python",
   "pygments_lexer": "ipython3",
   "version": "3.8.3"
  }
 },
 "nbformat": 4,
 "nbformat_minor": 4
}
